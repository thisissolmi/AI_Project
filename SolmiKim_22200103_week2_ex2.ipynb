{
 "cells": [
  {
   "cell_type": "code",
   "execution_count": 1,
   "metadata": {},
   "outputs": [],
   "source": [
    "# exercise 2\n",
    "\n",
    "\n",
    "start = int(input(\"Enter the start day (0~6)>>\"))\n",
    "finish = int(input(\"Enter the number of days (28~31)>>\"))\n",
    "\n",
    "calendar = {0: 'Sun', 1: 'Mon', 2: 'Tue', 3: 'Wed', 4: 'Thu', 5: 'Fri', 6: 'Sat'}\n",
    "print(\"Sun Mon Tue Wed Thu Fri Sat\")\n",
    "\n",
    "for i in range(start):\n",
    "    print(\"   \", end=\" \")\n",
    "\n",
    "for day in range(1, finish + 1):\n",
    "    print(f\"{day:3}\", end=\" \") #날짜간 간격 설정 \n",
    "    \n",
    "    if (start + day) % 7 == 0: \n",
    "        print()\n",
    "\n",
    "if (start + finish) % 7 != 0:\n",
    "    print()\n",
    "\n",
    "            \n",
    "    \n",
    "\n",
    "\n",
    "\n",
    "\n",
    "\n",
    "\n"
   ]
  }
 ],
 "metadata": {
  "kernelspec": {
   "display_name": "Python 3",
   "language": "python",
   "name": "python3"
  },
  "language_info": {
   "codemirror_mode": {
    "name": "ipython",
    "version": 3
   },
   "file_extension": ".py",
   "mimetype": "text/x-python",
   "name": "python",
   "nbconvert_exporter": "python",
   "pygments_lexer": "ipython3",
   "version": "3.9.6"
  }
 },
 "nbformat": 4,
 "nbformat_minor": 2
}
