{
 "cells": [
  {
   "cell_type": "code",
   "execution_count": null,
   "metadata": {},
   "outputs": [],
   "source": [
    "# exercise 1\n",
    "\n",
    "height = int(input(\"높이 입력 \"))\n",
    "\n",
    "for i in range(1, height + 1):\n",
    "    spaces = \" \" * (i - 1)\n",
    "    stars = \"*\" * (height - i + 1)\n",
    "    print(spaces + stars)\n",
    "\n",
    "\n"
   ]
  }
 ],
 "metadata": {
  "kernelspec": {
   "display_name": "Python 3",
   "language": "python",
   "name": "python3"
  },
  "language_info": {
   "name": "python",
   "version": "3.9.6"
  }
 },
 "nbformat": 4,
 "nbformat_minor": 2
}
