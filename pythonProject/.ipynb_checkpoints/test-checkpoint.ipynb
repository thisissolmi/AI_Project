{
 "cells": [
  {
   "cell_type": "code",
   "execution_count": 5,
   "id": "0ea67249-8096-4da5-ae06-4d80fc5d019e",
   "metadata": {},
   "outputs": [
    {
     "name": "stdout",
     "output_type": "stream",
     "text": [
      "[1, 2]\n",
      "[1, 2, 3, 4]\n",
      "[5, 4, 3, 2, 1]\n",
      "[1, 3, 5]\n"
     ]
    },
    {
     "name": "stdin",
     "output_type": "stream",
     "text": [
      "Enter the start day(0~6) 5\n",
      "Enter the start of day(28~31) 31\n"
     ]
    }
   ],
   "source": [
    "# Slice Operator\n",
    "\n",
    "a = [1,2,3,4,5]\n",
    "\n",
    "print(a[0:2]) # 0번째부터 2-1 까지 출력\n",
    "print(a[0:-1]) # 맨 뒤에것을 제외하고 모두 출력\n",
    "print(a[::-1]) # 반전된 값을 출력 \n",
    "print(a[::2]) # 각 요소를 2칸씩 스킵해서 출력\n"
   ]
  },
  {
   "cell_type": "code",
   "execution_count": 11,
   "id": "b5d93152-af90-4305-831f-d1b833557e2c",
   "metadata": {},
   "outputs": [
    {
     "name": "stdin",
     "output_type": "stream",
     "text": [
      " 3\n"
     ]
    },
    {
     "name": "stdout",
     "output_type": "stream",
     "text": [
      "*\n",
      "3\n"
     ]
    }
   ],
   "source": [
    "# exercise 1\n",
    "\n",
    "height = int(input(\"삼각형 높이 입력\"))\n",
    "\n",
    "for i in range(height, 0, -1):\n",
    "    spaces = \" \" * (height - i)\n",
    "    stars = \"*\" * (2 * i - 1)\n",
    "    print(spaces + stars)\n"
   ]
  },
  {
   "cell_type": "code",
   "execution_count": 46,
   "id": "f919d44e-2bfe-4399-a570-5dc2ab6111c4",
   "metadata": {},
   "outputs": [
    {
     "name": "stdin",
     "output_type": "stream",
     "text": [
      "Enter the start day (0~6)>> 0\n",
      "Enter the number of days (28~31)>> 28\n"
     ]
    },
    {
     "name": "stdout",
     "output_type": "stream",
     "text": [
      "Sun Mon Tue Wed Thu Fri Sat\n",
      "  1   2   3   4   5   6   7 \n",
      "  8   9  10  11  12  13  14 \n",
      " 15  16  17  18  19  20  21 \n",
      " 22  23  24  25  26  27  28 \n"
     ]
    }
   ],
   "source": [
    "# exercise 2\n",
    "\n",
    "\n",
    "start = int(input(\"Enter the start day (0~6)>>\"))\n",
    "finish = int(input(\"Enter the number of days (28~31)>>\"))\n",
    "\n",
    "calendar = {0: 'Sun', 1: 'Mon', 2: 'Tue', 3: 'Wed', 4: 'Thu', 5: 'Fri', 6: 'Sat'}\n",
    "print(\"Sun Mon Tue Wed Thu Fri Sat\")\n",
    "\n",
    "for i in range(start):\n",
    "    print(\"   \", end=\" \")\n",
    "\n",
    "for day in range(1, finish + 1):\n",
    "    print(f\"{day:3}\", end=\" \") #날짜간 간격 설정 \n",
    "    \n",
    "    if (start + day) % 7 == 0: \n",
    "        print()\n",
    "\n",
    "if (start + finish) % 7 != 0:\n",
    "    print()\n",
    "\n",
    "            \n",
    "    \n",
    "\n",
    "\n",
    "\n",
    "\n",
    "\n",
    "\n"
   ]
  },
  {
   "cell_type": "code",
   "execution_count": null,
   "id": "a80fbbb3-b2eb-46f8-ae1c-89dd770b87df",
   "metadata": {},
   "outputs": [],
   "source": []
  }
 ],
 "metadata": {
  "kernelspec": {
   "display_name": "Python 3 (ipykernel)",
   "language": "python",
   "name": "python3"
  },
  "language_info": {
   "codemirror_mode": {
    "name": "ipython",
    "version": 3
   },
   "file_extension": ".py",
   "mimetype": "text/x-python",
   "name": "python",
   "nbconvert_exporter": "python",
   "pygments_lexer": "ipython3",
   "version": "3.12.1"
  }
 },
 "nbformat": 4,
 "nbformat_minor": 5
}
